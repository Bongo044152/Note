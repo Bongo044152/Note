{
 "cells": [
  {
   "cell_type": "markdown",
   "metadata": {},
   "source": [
    "2024.10.16 星期三 23:42 pm\n",
    "\n",
    "背景: 我需要了解一下其他人的狀況...\n",
    "\n",
    "概念: 使用python 的 selenium 庫 完成網路爬蟲任務\n",
    "\n",
    "用途: 分析班上的數據"
   ]
  },
  {
   "cell_type": "code",
   "execution_count": 1,
   "metadata": {},
   "outputs": [],
   "source": [
    "execute_chrome_path = r\"C:\\Users\\Sakiyago\\Desktop\\web_crawer\\chrome-win64\\chrome.exe\" # 替換成你的 chrome 位置\n",
    "chrome_driver_path = r\"C:\\Users\\Sakiyago\\Desktop\\web_crawer\\chromedriver-win64\\chromedriver.exe\" # 替換成你的 chromedriver"
   ]
  },
  {
   "cell_type": "code",
   "execution_count": 2,
   "metadata": {},
   "outputs": [],
   "source": [
    "from selenium import webdriver\n",
    "from selenium.webdriver.chrome.service import Service\n",
    "from selenium.webdriver.chrome.options import Options\n",
    "from selenium.webdriver.common.by import By\n",
    "from selenium.webdriver.support.ui import WebDriverWait\n",
    "from selenium.webdriver.support import expected_conditions as EC\n",
    "\n",
    "import time"
   ]
  },
  {
   "cell_type": "code",
   "execution_count": null,
   "metadata": {},
   "outputs": [],
   "source": [
    "# 目標網址\n",
    "target_link = \"http://134.208.3.66/problem/PR113-1-\" + input(\"輸入題號: \")\n",
    "# target_link = \"http://134.208.3.5/problem/Arrays_Problem2\"\n",
    "mode = input(\"輸入k進入單一查詢模式: \").lower()\n",
    "if mode == 'k':\n",
    "    name = input(\"誰? \")"
   ]
  },
  {
   "cell_type": "markdown",
   "metadata": {},
   "source": [
    "### Error"
   ]
  },
  {
   "cell_type": "code",
   "execution_count": 3,
   "metadata": {},
   "outputs": [],
   "source": [
    "# Error\n",
    "class Error(Exception):\n",
    "    def __init__(self, message):\n",
    "        super().__init__(message)"
   ]
  },
  {
   "cell_type": "markdown",
   "metadata": {},
   "source": [
    "### preparation stage"
   ]
  },
  {
   "cell_type": "code",
   "execution_count": 4,
   "metadata": {},
   "outputs": [],
   "source": [
    "def create_driver():\n",
    "    ## service\n",
    "    service = Service(executable_path = chrome_driver_path)\n",
    "\n",
    "    ## chrome-option\n",
    "    chrome_options = Options()\n",
    "    chrome_options.binary_location = execute_chrome_path\n",
    "\n",
    "    ## driver GET target_link\n",
    "    driver = webdriver.Chrome(service=service, options=chrome_options)\n",
    "    return driver"
   ]
  },
  {
   "cell_type": "code",
   "execution_count": null,
   "metadata": {},
   "outputs": [],
   "source": [
    "driver = create_driver()\n",
    "\n",
    "## Wait\n",
    "wait = WebDriverWait(driver, 5)\n",
    "\n",
    "driver.get(target_link)"
   ]
  },
  {
   "cell_type": "markdown",
   "metadata": {},
   "source": [
    "### function"
   ]
  },
  {
   "cell_type": "code",
   "execution_count": 5,
   "metadata": {},
   "outputs": [],
   "source": [
    "def InToPage():\n",
    "    wait.until(EC.visibility_of_element_located((By.CSS_SELECTOR, \"#right-column > div.ivu-card.ivu-card-bordered.ivu-card-dis-hover > div > ul > li\"))).click()"
   ]
  },
  {
   "cell_type": "code",
   "execution_count": 6,
   "metadata": {},
   "outputs": [],
   "source": [
    "def get_rank():\n",
    "    wait.until(EC.visibility_of_element_located((By.CSS_SELECTOR, \"#main > div > div.ivu-card-body > div > div.page > ul > li.ivu-page-next\")))\n",
    "    data = {}  # username : runtime\n",
    "    driver.execute_script(\"window.scrollTo(0, document.body.scrollHeight);\")\n",
    "    excute_time = driver.find_element(By.CSS_SELECTOR, \"#main > div > div.ivu-card-body > div > div.page > ul\")\n",
    "    excute_time = int(excute_time.find_elements(By.CSS_SELECTOR, \"li\")[-2].text)\n",
    "    try:\n",
    "        for _ in range(excute_time):\n",
    "\n",
    "            time.sleep(0.5)\n",
    "            # 等待下一页按钮可点击\n",
    "            next_page_but = wait.until(\n",
    "                EC.element_to_be_clickable((By.CSS_SELECTOR, '#main > div > div.ivu-card-body > div > div.page > ul > li.ivu-page-next'))\n",
    "            )\n",
    "            \n",
    "            # 等待表格容器可见\n",
    "            container = wait.until(EC.visibility_of_element_located((By.CSS_SELECTOR, \"#main > div > div.ivu-card-body > div > div.ivu-table-wrapper > div > div.ivu-table-body > table > tbody\")))\n",
    "            \n",
    "            # 获取表格行\n",
    "            trs = container.find_elements(By.CSS_SELECTOR, \"tr\")\n",
    "            for tr in trs:\n",
    "                # 获取运行时间和用户名\n",
    "                flag = tr.find_elements(By.CSS_SELECTOR, \"td\")[2].text\n",
    "                \n",
    "                # 更新数据\n",
    "                if \"Accepted\" in flag:\n",
    "                    runtime = int(tr.find_elements(By.CSS_SELECTOR, \"td\")[4].text[:-2])\n",
    "                    userName = tr.find_elements(By.CSS_SELECTOR, \"td\")[7].text\n",
    "                    if userName in data:\n",
    "                        data[userName] = min(data[userName], runtime)\n",
    "                    else:\n",
    "                        data[userName] = runtime\n",
    "            \n",
    "            # 点击下一页\n",
    "            next_page_but.click()\n",
    "            driver.execute_script(\"window.scrollTo(0, document.body.scrollHeight);\")\n",
    "    except Exception as e:\n",
    "        raise Error(e)\n",
    "    return data"
   ]
  },
  {
   "cell_type": "code",
   "execution_count": 7,
   "metadata": {},
   "outputs": [],
   "source": [
    "def get_by_name(name):\n",
    "    wait.until(EC.visibility_of_element_located((By.CSS_SELECTOR, \"#main > div > div.ivu-card-body > div > div.page > ul > li.ivu-page-next\")))\n",
    "    actully = {\"錯誤\": 0, \"正確\": 0}  # 錯誤/正確 : 次數\n",
    "    total_runtime = [] # runtime\n",
    "    driver.execute_script(\"window.scrollTo(0, document.body.scrollHeight);\")\n",
    "    excute_time = driver.find_element(By.CSS_SELECTOR, \"#main > div > div.ivu-card-body > div > div.page > ul\")\n",
    "    excute_time = int(excute_time.find_elements(By.CSS_SELECTOR, \"li\")[-2].text)\n",
    "    try:\n",
    "        for _ in range(excute_time):\n",
    "            \n",
    "            time.sleep(0.5)\n",
    "            # 等待下一页按钮可点击\n",
    "            next_page_but = wait.until(\n",
    "                EC.element_to_be_clickable((By.CSS_SELECTOR, '#main > div > div.ivu-card-body > div > div.page > ul > li.ivu-page-next'))\n",
    "            )\n",
    "            \n",
    "            # 等待表格容器可见\n",
    "            container = wait.until(EC.visibility_of_element_located((By.CSS_SELECTOR, \"#main > div > div.ivu-card-body > div > div.ivu-table-wrapper > div > div.ivu-table-body > table > tbody\")))\n",
    "            \n",
    "            # 获取表格行\n",
    "            trs = container.find_elements(By.CSS_SELECTOR, \"tr\")\n",
    "            for tr in trs:\n",
    "                # 获取运行时间和用户名\n",
    "                flag = tr.find_elements(By.CSS_SELECTOR, \"td\")[2].text\n",
    "                \n",
    "                # 更新数据\n",
    "                userName = tr.find_elements(By.CSS_SELECTOR, \"td\")[7].text\n",
    "                if userName == name:\n",
    "                    if \"Accepted\" in flag:\n",
    "                        actully[\"正確\"] += 1\n",
    "                        runtime = int(tr.find_elements(By.CSS_SELECTOR, \"td\")[4].text[:-2])\n",
    "                        total_runtime.append(runtime)\n",
    "                    else:\n",
    "                        actully[\"錯誤\"] += 1\n",
    "            \n",
    "            # 点击下一页\n",
    "            next_page_but.click()\n",
    "            driver.execute_script(\"window.scrollTo(0, document.body.scrollHeight);\")\n",
    "    except Exception as e:\n",
    "        raise Error(e)\n",
    "    return [actully, total_runtime]"
   ]
  },
  {
   "cell_type": "markdown",
   "metadata": {},
   "source": [
    "### tools"
   ]
  },
  {
   "cell_type": "code",
   "execution_count": 8,
   "metadata": {},
   "outputs": [],
   "source": [
    "def filter_by_k(data, k):\n",
    "    return {key: value for key, value in data.items() if value <= k}\n",
    "def the_same_generation(data):\n",
    "    return {key: value for key, value in data.items() if \"411321\" in key}"
   ]
  },
  {
   "cell_type": "markdown",
   "metadata": {},
   "source": [
    "### Main function"
   ]
  },
  {
   "cell_type": "code",
   "execution_count": 9,
   "metadata": {},
   "outputs": [],
   "source": [
    "def main():\n",
    "    try:\n",
    "        if mode != \"k\":\n",
    "            InToPage()\n",
    "            data = dict(sorted(get_rank().items(), key=lambda item: item[1]))\n",
    "            driver.close()\n",
    "\n",
    "            print(\"所有人:\")\n",
    "            print(data)\n",
    "            print(f\"目前有{len(data)}人 Accept\")\n",
    "            print()\n",
    "\n",
    "\n",
    "            k = int(input(\"查詢幾ms以下 對象:所有人 \"))\n",
    "            temp = filter_by_k(data, k)\n",
    "            print(f\"目前有 {len(temp)}人 {k}ms 以下\")\n",
    "            print(temp)\n",
    "            print()\n",
    "            \n",
    "            print(\"對於同一屆:\")\n",
    "            temp = the_same_generation(data)\n",
    "            print(temp)\n",
    "            print(f\"一共{len(temp)}人 Accept\")\n",
    "            print()\n",
    "            k = int(input(\"查詢幾ms以下 對象:同一屆 \"))\n",
    "            temp = filter_by_k(temp, k)\n",
    "            print(f\"同一屆有 {len(temp)}人 {k}ms 以下\")\n",
    "            print(temp)\n",
    "            print()\n",
    "        else:\n",
    "            InToPage()\n",
    "            actully, total_runtime = get_by_name(name)\n",
    "            print(\"報告老大! 結果出爐了!\")\n",
    "            print(f\"針對使用者{name}的初步調查如下:\")\n",
    "            print(actully)\n",
    "            print(\"AC的提交ms (時間由前到後)\")\n",
    "            print(total_runtime[::-1])\n",
    "\n",
    "    except Error as E:\n",
    "        print(f\"捕獲到錯誤 : {E}\")"
   ]
  },
  {
   "cell_type": "code",
   "execution_count": 10,
   "metadata": {},
   "outputs": [
    {
     "name": "stdout",
     "output_type": "stream",
     "text": [
      "所有人:\n",
      "{'wayne1111': 1, '411321263': 1, '411221219': 1, '411321220': 1, '41107a003': 1, '411321211': 1, 'bao': 1, '411025020': 1, '411321229': 1, '411221250': 1, '411221303': 1, '411321257': 2, '411321256楊景皓': 2, '4112213a1': 2, '411121258': 2, '411321224': 2, '411321251': 2, '411321235': 2, '411321301': 2, 'tkchang': 2, '411121273': 2, '411321240': 2, '411121272': 2, '411321261': 3, '411321214': 3, '411321277': 49, '411321222': 58, '411321280': 58, '411121276': 59, '411321260': 125, '411321216': 156, '411321276': 165, 'bamboostick': 171, 'leosu': 391, '411321228': 483, '411321218': 666}\n",
      "目前有36人 Accept\n",
      "\n",
      "目前有 25人 5ms 以下\n",
      "{'wayne1111': 1, '411321263': 1, '411221219': 1, '411321220': 1, '41107a003': 1, '411321211': 1, 'bao': 1, '411025020': 1, '411321229': 1, '411221250': 1, '411221303': 1, '411321257': 2, '411321256楊景皓': 2, '4112213a1': 2, '411121258': 2, '411321224': 2, '411321251': 2, '411321235': 2, '411321301': 2, 'tkchang': 2, '411121273': 2, '411321240': 2, '411121272': 2, '411321261': 3, '411321214': 3}\n",
      "\n",
      "對於同一屆:\n",
      "{'411321263': 1, '411321220': 1, '411321211': 1, '411321229': 1, '411321257': 2, '411321256楊景皓': 2, '411321224': 2, '411321251': 2, '411321235': 2, '411321301': 2, '411321240': 2, '411321261': 3, '411321214': 3, '411321277': 49, '411321222': 58, '411321280': 58, '411321260': 125, '411321216': 156, '411321276': 165, '411321228': 483, '411321218': 666}\n",
      "一共21人 Accept\n",
      "\n",
      "同一屆有 13人 5ms 以下\n",
      "{'411321263': 1, '411321220': 1, '411321211': 1, '411321229': 1, '411321257': 2, '411321256楊景皓': 2, '411321224': 2, '411321251': 2, '411321235': 2, '411321301': 2, '411321240': 2, '411321261': 3, '411321214': 3}\n",
      "\n"
     ]
    }
   ],
   "source": [
    "if __name__ == \"__main__\":\n",
    "    main()\n",
    "    driver.quit()"
   ]
  },
  {
   "cell_type": "markdown",
   "metadata": {},
   "source": [
    "## 資料分析"
   ]
  },
  {
   "cell_type": "code",
   "execution_count": 6,
   "metadata": {},
   "outputs": [],
   "source": [
    "# 繪圖用\n",
    "import matplotlib.pyplot as plt\n",
    "from matplotlib.font_manager import FontProperties as font\n",
    "\n",
    "# 表格整理\n",
    "import pandas as pd\n",
    "\n",
    "# 數據整理\n",
    "import numpy as np\n",
    "\n",
    "# 使用者介面\n",
    "import ipywidgets as widgets"
   ]
  },
  {
   "cell_type": "code",
   "execution_count": 7,
   "metadata": {},
   "outputs": [],
   "source": [
    "chinese = font(fname=r\".\\cjkFonts_allseto_v1.11.ttf\")"
   ]
  },
  {
   "cell_type": "code",
   "execution_count": 20,
   "metadata": {},
   "outputs": [],
   "source": [
    "class Everyone():\n",
    "    def __init__(self) -> None:\n",
    "        pass\n",
    "    \n",
    "    @staticmethod\n",
    "    def my_drawer(data):\n",
    "        plt.figure(figsize=(20, 12))\n",
    "\n",
    "        # 绘制数据点\n",
    "        plt.plot(data,\n",
    "                 marker='o',\n",
    "                 markersize=10,\n",
    "                 linewidth=1,\n",
    "                 linestyle='-',\n",
    "                 color='blue',\n",
    "                 markerfacecolor='green',  # 填充\n",
    "                 markeredgecolor='green'    # 边缘\n",
    "                )\n",
    "\n",
    "        # 计算统计信息\n",
    "        mean = np.mean(data)\n",
    "        std_dev = np.std(data)\n",
    "        q1 = np.percentile(data, 25)\n",
    "        q3 = np.percentile(data, 75)\n",
    "\n",
    "        # 绘制趋势线\n",
    "        x = np.arange(len(data))\n",
    "        coeffs = np.polyfit(x, data, 1)  # 线性拟合\n",
    "        trendline = np.polyval(coeffs, x)\n",
    "        plt.plot(x, trendline, color='red', linestyle='--', label='Trend Line')\n",
    "\n",
    "        # 为每个点添加文本标签\n",
    "        fontSize = 10\n",
    "        for i, value in enumerate(data):\n",
    "            plt.text(i, value + std_dev/10, str(value), fontsize=fontSize, ha='center')\n",
    "\n",
    "        # 添加标签和标题\n",
    "        plt.ylabel('運行時間 (ms)', fontproperties=chinese, fontsize=15)\n",
    "        x_display = target_link if 'http' not in target_link else target_link.split('-')[-1]\n",
    "        plt.title(f\"程式設計實驗 問題 \\\"{x_display}\\\"\", fontproperties=chinese, fontsize=25)\n",
    "        plt.grid()\n",
    "        plt.legend()\n",
    "        plt.show()\n",
    "\n",
    "        # 统计信息\n",
    "        stats_text = f'平均值: {mean:.2f}\\n標準差: {std_dev:.2f}\\nQ1: {q1:.2f}\\nQ3: {q3:.2f}'\n",
    "        print(stats_text)\n",
    "        print(\"-----------\")\n",
    "        print(f\"總人數: {len(data)}\")\n",
    "\n",
    "    @staticmethod\n",
    "    def get_information(AC:bool=True):\n",
    "        wait.until(EC.visibility_of_element_located((By.CSS_SELECTOR, \"#main > div > div.ivu-card-body > div > div.page > ul > li.ivu-page-next\")))\n",
    "        driver.execute_script(\"window.scrollTo(0, document.body.scrollHeight);\")\n",
    "        excute_time = driver.find_element(By.CSS_SELECTOR, \"#main > div > div.ivu-card-body > div > div.page > ul\")\n",
    "        excute_time = int(excute_time.find_elements(By.CSS_SELECTOR, \"li\")[-2].text)\n",
    "\n",
    "        # 資料儲存格式 -> [username, runtime]\n",
    "        data = []\n",
    "\n",
    "        if AC:\n",
    "            try:\n",
    "                for _ in range(excute_time):\n",
    "\n",
    "                    time.sleep(0.5)\n",
    "                    # 等待下一頁按鈕可被點擊\n",
    "                    next_page_but = wait.until(\n",
    "                        EC.element_to_be_clickable((By.CSS_SELECTOR, '#main > div > div.ivu-card-body > div > div.page > ul > li.ivu-page-next'))\n",
    "                    )\n",
    "                    \n",
    "                    # 等待表格容器可见\n",
    "                    container = wait.until(EC.visibility_of_element_located((By.CSS_SELECTOR, \"#main > div > div.ivu-card-body > div > div.ivu-table-wrapper > div > div.ivu-table-body > table > tbody\")))\n",
    "                    \n",
    "                    # 获取表格行\n",
    "                    trs = container.find_elements(By.CSS_SELECTOR, \"tr\")\n",
    "                    for tr in trs:\n",
    "\n",
    "                        Status = tr.find_elements(By.CSS_SELECTOR, \"td\")[2].text\n",
    "\n",
    "                        if \"Accepte\" in Status:\n",
    "                            runtime = int(tr.find_elements(By.CSS_SELECTOR, \"td\")[4].text[:-2])\n",
    "                            userName = tr.find_elements(By.CSS_SELECTOR, \"td\")[7].text\n",
    "                            data.append([userName, runtime])\n",
    "                    \n",
    "                    # 点击下一页\n",
    "                    next_page_but.click()\n",
    "                    driver.execute_script(\"window.scrollTo(0, document.body.scrollHeight);\")\n",
    "            except Exception as e:\n",
    "                raise Error(e)\n",
    "            temp = data[::-1]\n",
    "            temp = [i[1] for i in temp]\n",
    "            return temp\n",
    "        else:\n",
    "            pass"
   ]
  },
  {
   "cell_type": "code",
   "execution_count": 15,
   "metadata": {},
   "outputs": [],
   "source": [
    "def get_information_by_username(name):\n",
    "    pass"
   ]
  },
  {
   "cell_type": "code",
   "execution_count": 30,
   "metadata": {},
   "outputs": [
    {
     "data": {
      "image/png": "[encoded data removed]",
      "text/plain": [
       "<Figure size 2000x1200 with 1 Axes>"
      ]
     },
     "metadata": {},
     "output_type": "display_data"
    },
    {
     "name": "stdout",
     "output_type": "stream",
     "text": [
      "平均值: 2.86\n",
      "標準差: 4.85\n",
      "Q1: 2.00\n",
      "Q3: 3.00\n",
      "-----------\n",
      "總人數: 81\n"
     ]
    }
   ],
   "source": [
    "target_link = input(\"輸入網址或題號(題號預設為\\\"程式設計實驗的Lab\\\")\")\n",
    "target_link = target_link if \"http\" in target_link else \"http://134.208.3.66/problem/PR113-1-\" + target_link\n",
    "\n",
    "driver = create_driver()\n",
    "\n",
    "## Wait\n",
    "wait = WebDriverWait(driver, 5)\n",
    "\n",
    "driver.get(target_link)\n",
    "try:\n",
    "    InToPage()\n",
    "    everyone = Everyone()\n",
    "    data = everyone.get_information()\n",
    "except Exception as e:\n",
    "    print(e)\n",
    "driver.close()\n",
    "everyone.my_drawer(data)"
   ]
  }
 ],
 "metadata": {
  "kernelspec": {
   "display_name": ".venv",
   "language": "python",
   "name": "python3"
  },
  "language_info": {
   "codemirror_mode": {
    "name": "ipython",
    "version": 3
   },
   "file_extension": ".py",
   "mimetype": "text/x-python",
   "name": "python",
   "nbconvert_exporter": "python",
   "pygments_lexer": "ipython3",
   "version": "3.12.5"
  }
 },
 "nbformat": 4,
 "nbformat_minor": 2
}
